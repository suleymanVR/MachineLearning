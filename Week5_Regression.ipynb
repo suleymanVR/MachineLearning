{
  "nbformat": 4,
  "nbformat_minor": 0,
  "metadata": {
    "colab": {
      "name": "Week5 Regression",
      "provenance": [],
      "collapsed_sections": [],
      "authorship_tag": "ABX9TyMCVr6HtpnAFQVsbzN/iAuG",
      "include_colab_link": true
    },
    "kernelspec": {
      "name": "python3",
      "display_name": "Python 3"
    },
    "language_info": {
      "name": "python"
    }
  },
  "cells": [
    {
      "cell_type": "markdown",
      "metadata": {
        "id": "view-in-github",
        "colab_type": "text"
      },
      "source": [
        "<a href=\"https://colab.research.google.com/github/suleymanVR/MachineLearning/blob/main/Week5_Regression.ipynb\" target=\"_parent\"><img src=\"https://colab.research.google.com/assets/colab-badge.svg\" alt=\"Open In Colab\"/></a>"
      ]
    },
    {
      "cell_type": "markdown",
      "source": [
        "# **Linear Regression**"
      ],
      "metadata": {
        "id": "bxw81tAbq5pa"
      }
    },
    {
      "cell_type": "code",
      "source": [
        "import pandas as pd\n",
        "import numpy as np\n",
        "import matplotlib.pyplot as plt"
      ],
      "metadata": {
        "id": "hLC4emewqZ1Z"
      },
      "execution_count": null,
      "outputs": []
    },
    {
      "cell_type": "code",
      "source": [
        "data = pd.read_csv(\"/content/column_2C_weka.csv\")"
      ],
      "metadata": {
        "id": "W1_uxyeLqnip"
      },
      "execution_count": null,
      "outputs": []
    },
    {
      "cell_type": "code",
      "source": [
        "data.keys()"
      ],
      "metadata": {
        "colab": {
          "base_uri": "https://localhost:8080/"
        },
        "id": "AAP2ZfReNLsA",
        "outputId": "0f32542f-f945-47c0-9620-4800a0a4bb85"
      },
      "execution_count": null,
      "outputs": [
        {
          "output_type": "execute_result",
          "data": {
            "text/plain": [
              "Index(['pelvic_incidence', 'pelvic_tilt numeric', 'lumbar_lordosis_angle',\n",
              "       'sacral_slope', 'pelvic_radius', 'degree_spondylolisthesis', 'class'],\n",
              "      dtype='object')"
            ]
          },
          "metadata": {},
          "execution_count": 6
        }
      ]
    },
    {
      "cell_type": "code",
      "execution_count": null,
      "metadata": {
        "colab": {
          "base_uri": "https://localhost:8080/",
          "height": 335
        },
        "id": "R_kPl7CVpcOo",
        "outputId": "3885b8e4-6d5b-4b2e-c7e6-69a766d9fd60"
      },
      "outputs": [
        {
          "output_type": "display_data",
          "data": {
            "text/plain": [
              "<Figure size 360x360 with 1 Axes>"
            ],
            "image/png": "[encoded data removed]"
          },
          "metadata": {
            "needs_background": "light"
          }
        }
      ],
      "source": [
        "data1 = data[data['class'] =='Abnormal']\n",
        "x = np.array(data1.loc[:,'pelvic_incidence']).reshape(-1,1)\n",
        "y = np.array(data1.loc[:,'sacral_slope']).reshape(-1,1)\n",
        "# Scatter\n",
        "plt.figure(figsize=[5,5])\n",
        "plt.scatter(x=x,y=y)\n",
        "plt.xlabel('pelvic_incidence')\n",
        "plt.ylabel('sacral_slope')\n",
        "plt.show()"
      ]
    },
    {
      "cell_type": "code",
      "source": [
        "# LinearRegression\n",
        "from sklearn.linear_model import LinearRegression\n",
        "reg = LinearRegression()\n",
        "# Predict space\n",
        "predict_space = np.linspace(min(x), max(x)).reshape(-1,1)\n",
        "# Fit\n",
        "reg.fit(x,y)\n",
        "# Predict\n",
        "predicted = reg.predict(predict_space)\n",
        "# R^2 \n",
        "print('R^2 score: ',reg.score(x, y))\n",
        "# Plot regression line and scatter\n",
        "plt.plot(predict_space, predicted, color='black', linewidth=3)\n",
        "plt.scatter(x=x,y=y)\n",
        "plt.xlabel('pelvic_incidence')\n",
        "plt.ylabel('sacral_slope')\n",
        "plt.show()"
      ],
      "metadata": {
        "colab": {
          "base_uri": "https://localhost:8080/",
          "height": 298
        },
        "id": "Ho0VvVRvqUH3",
        "outputId": "b95fbd69-f11e-4477-db14-7d4b28472a01"
      },
      "execution_count": null,
      "outputs": [
        {
          "output_type": "stream",
          "name": "stdout",
          "text": [
            "R^2 score:  0.6458410481075871\n"
          ]
        },
        {
          "output_type": "display_data",
          "data": {
            "text/plain": [
              "<Figure size 432x288 with 1 Axes>"
            ],
            "image/png": "[encoded data removed]"
          },
          "metadata": {
            "needs_background": "light"
          }
        }
      ]
    },
    {
      "cell_type": "markdown",
      "source": [
        "# **Multiple Linear Regression**"
      ],
      "metadata": {
        "id": "sjn0QAw_rFqA"
      }
    },
    {
      "cell_type": "code",
      "source": [
        "import pandas as pd\n",
        "import numpy as np\n",
        "from sklearn.linear_model import LinearRegression"
      ],
      "metadata": {
        "id": "kXZrOtekrKZ4"
      },
      "execution_count": 1,
      "outputs": []
    },
    {
      "cell_type": "code",
      "source": [
        "data = pd.read_csv(\"/content/column_2C_weka.csv\")"
      ],
      "metadata": {
        "id": "mnnhsalgNttu"
      },
      "execution_count": 17,
      "outputs": []
    },
    {
      "cell_type": "code",
      "source": [
        "data1 = data[data['class'] =='Abnormal']\n",
        "x = np.array(data1.loc[:,'pelvic_incidence']).reshape(-1,1)\n",
        "y = np.array(data1.loc[:,'sacral_slope']).reshape(-1,1)"
      ],
      "metadata": {
        "id": "_E5dhvO0Nv2U"
      },
      "execution_count": 18,
      "outputs": []
    },
    {
      "cell_type": "code",
      "source": [
        "multiple_linear_regression = LinearRegression()\n",
        "multiple_linear_regression.fit(x,y)"
      ],
      "metadata": {
        "colab": {
          "base_uri": "https://localhost:8080/"
        },
        "id": "_HMRfiblOL6l",
        "outputId": "ed5cdc2e-c4e6-4401-a27d-f0293f63276b"
      },
      "execution_count": 4,
      "outputs": [
        {
          "output_type": "execute_result",
          "data": {
            "text/plain": [
              "LinearRegression()"
            ]
          },
          "metadata": {},
          "execution_count": 4
        }
      ]
    },
    {
      "cell_type": "code",
      "source": [
        "print(\"b0: \", multiple_linear_regression.intercept_)"
      ],
      "metadata": {
        "colab": {
          "base_uri": "https://localhost:8080/"
        },
        "id": "Y5UeoGj_OOA9",
        "outputId": "ea767217-3760-4b76-8f4f-1c9b23d9ed12"
      },
      "execution_count": 12,
      "outputs": [
        {
          "output_type": "stream",
          "name": "stdout",
          "text": [
            "b0:  [2.17390961]\n"
          ]
        }
      ]
    },
    {
      "cell_type": "code",
      "source": [
        "data.describe() #tüm verileri alındı."
      ],
      "metadata": {
        "colab": {
          "base_uri": "https://localhost:8080/",
          "height": 300
        },
        "id": "sQoZzcVSyzYv",
        "outputId": "56048ce9-53e8-48b2-a7c2-1fc7a5331b6e"
      },
      "execution_count": 13,
      "outputs": [
        {
          "output_type": "execute_result",
          "data": {
            "text/plain": [
              "       pelvic_incidence  pelvic_tilt numeric  lumbar_lordosis_angle  \\\n",
              "count        310.000000           310.000000             310.000000   \n",
              "mean          60.496653            17.542822              51.930930   \n",
              "std           17.236520            10.008330              18.554064   \n",
              "min           26.147921            -6.554948              14.000000   \n",
              "25%           46.430294            10.667069              37.000000   \n",
              "50%           58.691038            16.357689              49.562398   \n",
              "75%           72.877696            22.120395              63.000000   \n",
              "max          129.834041            49.431864             125.742385   \n",
              "\n",
              "       sacral_slope  pelvic_radius  degree_spondylolisthesis  \n",
              "count    310.000000     310.000000                310.000000  \n",
              "mean      42.953831     117.920655                 26.296694  \n",
              "std       13.423102      13.317377                 37.559027  \n",
              "min       13.366931      70.082575                -11.058179  \n",
              "25%       33.347122     110.709196                  1.603727  \n",
              "50%       42.404912     118.268178                 11.767934  \n",
              "75%       52.695888     125.467674                 41.287352  \n",
              "max      121.429566     163.071041                418.543082  "
            ],
            "text/html": [
              "\n",
              "  <div id=\"df-cf184781-6cbb-490f-be52-5ae317e93527\">\n",
              "    <div class=\"colab-df-container\">\n",
              "      <div>\n",
              "<style scoped>\n",
              "    .dataframe tbody tr th:only-of-type {\n",
              "        vertical-align: middle;\n",
              "    }\n",
              "\n",
              "    .dataframe tbody tr th {\n",
              "        vertical-align: top;\n",
              "    }\n",
              "\n",
              "    .dataframe thead th {\n",
              "        text-align: right;\n",
              "    }\n",
              "</style>\n",
              "<table border=\"1\" class=\"dataframe\">\n",
              "  <thead>\n",
              "    <tr style=\"text-align: right;\">\n",
              "      <th></th>\n",
              "      <th>pelvic_incidence</th>\n",
              "      <th>pelvic_tilt numeric</th>\n",
              "      <th>lumbar_lordosis_angle</th>\n",
              "      <th>sacral_slope</th>\n",
              "      <th>pelvic_radius</th>\n",
              "      <th>degree_spondylolisthesis</th>\n",
              "    </tr>\n",
              "  </thead>\n",
              "  <tbody>\n",
              "    <tr>\n",
              "      <th>count</th>\n",
              "      <td>310.000000</td>\n",
              "      <td>310.000000</td>\n",
              "      <td>310.000000</td>\n",
              "      <td>310.000000</td>\n",
              "      <td>310.000000</td>\n",
              "      <td>310.000000</td>\n",
              "    </tr>\n",
              "    <tr>\n",
              "      <th>mean</th>\n",
              "      <td>60.496653</td>\n",
              "      <td>17.542822</td>\n",
              "      <td>51.930930</td>\n",
              "      <td>42.953831</td>\n",
              "      <td>117.920655</td>\n",
              "      <td>26.296694</td>\n",
              "    </tr>\n",
              "    <tr>\n",
              "      <th>std</th>\n",
              "      <td>17.236520</td>\n",
              "      <td>10.008330</td>\n",
              "      <td>18.554064</td>\n",
              "      <td>13.423102</td>\n",
              "      <td>13.317377</td>\n",
              "      <td>37.559027</td>\n",
              "    </tr>\n",
              "    <tr>\n",
              "      <th>min</th>\n",
              "      <td>26.147921</td>\n",
              "      <td>-6.554948</td>\n",
              "      <td>14.000000</td>\n",
              "      <td>13.366931</td>\n",
              "      <td>70.082575</td>\n",
              "      <td>-11.058179</td>\n",
              "    </tr>\n",
              "    <tr>\n",
              "      <th>25%</th>\n",
              "      <td>46.430294</td>\n",
              "      <td>10.667069</td>\n",
              "      <td>37.000000</td>\n",
              "      <td>33.347122</td>\n",
              "      <td>110.709196</td>\n",
              "      <td>1.603727</td>\n",
              "    </tr>\n",
              "    <tr>\n",
              "      <th>50%</th>\n",
              "      <td>58.691038</td>\n",
              "      <td>16.357689</td>\n",
              "      <td>49.562398</td>\n",
              "      <td>42.404912</td>\n",
              "      <td>118.268178</td>\n",
              "      <td>11.767934</td>\n",
              "    </tr>\n",
              "    <tr>\n",
              "      <th>75%</th>\n",
              "      <td>72.877696</td>\n",
              "      <td>22.120395</td>\n",
              "      <td>63.000000</td>\n",
              "      <td>52.695888</td>\n",
              "      <td>125.467674</td>\n",
              "      <td>41.287352</td>\n",
              "    </tr>\n",
              "    <tr>\n",
              "      <th>max</th>\n",
              "      <td>129.834041</td>\n",
              "      <td>49.431864</td>\n",
              "      <td>125.742385</td>\n",
              "      <td>121.429566</td>\n",
              "      <td>163.071041</td>\n",
              "      <td>418.543082</td>\n",
              "    </tr>\n",
              "  </tbody>\n",
              "</table>\n",
              "</div>\n",
              "      <button class=\"colab-df-convert\" onclick=\"convertToInteractive('df-cf184781-6cbb-490f-be52-5ae317e93527')\"\n",
              "              title=\"Convert this dataframe to an interactive table.\"\n",
              "              style=\"display:none;\">\n",
              "        \n",
              "  <svg xmlns=\"http://www.w3.org/2000/svg\" height=\"24px\"viewBox=\"0 0 24 24\"\n",
              "       width=\"24px\">\n",
              "    <path d=\"M0 0h24v24H0V0z\" fill=\"none\"/>\n",
              "    <path d=\"M18.56 5.44l.94 2.06.94-2.06 2.06-.94-2.06-.94-.94-2.06-.94 2.06-2.06.94zm-11 1L8.5 8.5l.94-2.06 2.06-.94-2.06-.94L8.5 2.5l-.94 2.06-2.06.94zm10 10l.94 2.06.94-2.06 2.06-.94-2.06-.94-.94-2.06-.94 2.06-2.06.94z\"/><path d=\"M17.41 7.96l-1.37-1.37c-.4-.4-.92-.59-1.43-.59-.52 0-1.04.2-1.43.59L10.3 9.45l-7.72 7.72c-.78.78-.78 2.05 0 2.83L4 21.41c.39.39.9.59 1.41.59.51 0 1.02-.2 1.41-.59l7.78-7.78 2.81-2.81c.8-.78.8-2.07 0-2.86zM5.41 20L4 18.59l7.72-7.72 1.47 1.35L5.41 20z\"/>\n",
              "  </svg>\n",
              "      </button>\n",
              "      \n",
              "  <style>\n",
              "    .colab-df-container {\n",
              "      display:flex;\n",
              "      flex-wrap:wrap;\n",
              "      gap: 12px;\n",
              "    }\n",
              "\n",
              "    .colab-df-convert {\n",
              "      background-color: #E8F0FE;\n",
              "      border: none;\n",
              "      border-radius: 50%;\n",
              "      cursor: pointer;\n",
              "      display: none;\n",
              "      fill: #1967D2;\n",
              "      height: 32px;\n",
              "      padding: 0 0 0 0;\n",
              "      width: 32px;\n",
              "    }\n",
              "\n",
              "    .colab-df-convert:hover {\n",
              "      background-color: #E2EBFA;\n",
              "      box-shadow: 0px 1px 2px rgba(60, 64, 67, 0.3), 0px 1px 3px 1px rgba(60, 64, 67, 0.15);\n",
              "      fill: #174EA6;\n",
              "    }\n",
              "\n",
              "    [theme=dark] .colab-df-convert {\n",
              "      background-color: #3B4455;\n",
              "      fill: #D2E3FC;\n",
              "    }\n",
              "\n",
              "    [theme=dark] .colab-df-convert:hover {\n",
              "      background-color: #434B5C;\n",
              "      box-shadow: 0px 1px 3px 1px rgba(0, 0, 0, 0.15);\n",
              "      filter: drop-shadow(0px 1px 2px rgba(0, 0, 0, 0.3));\n",
              "      fill: #FFFFFF;\n",
              "    }\n",
              "  </style>\n",
              "\n",
              "      <script>\n",
              "        const buttonEl =\n",
              "          document.querySelector('#df-cf184781-6cbb-490f-be52-5ae317e93527 button.colab-df-convert');\n",
              "        buttonEl.style.display =\n",
              "          google.colab.kernel.accessAllowed ? 'block' : 'none';\n",
              "\n",
              "        async function convertToInteractive(key) {\n",
              "          const element = document.querySelector('#df-cf184781-6cbb-490f-be52-5ae317e93527');\n",
              "          const dataTable =\n",
              "            await google.colab.kernel.invokeFunction('convertToInteractive',\n",
              "                                                     [key], {});\n",
              "          if (!dataTable) return;\n",
              "\n",
              "          const docLinkHtml = 'Like what you see? Visit the ' +\n",
              "            '<a target=\"_blank\" href=https://colab.research.google.com/notebooks/data_table.ipynb>data table notebook</a>'\n",
              "            + ' to learn more about interactive tables.';\n",
              "          element.innerHTML = '';\n",
              "          dataTable['output_type'] = 'display_data';\n",
              "          await google.colab.output.renderOutput(dataTable, element);\n",
              "          const docLink = document.createElement('div');\n",
              "          docLink.innerHTML = docLinkHtml;\n",
              "          element.appendChild(docLink);\n",
              "        }\n",
              "      </script>\n",
              "    </div>\n",
              "  </div>\n",
              "  "
            ]
          },
          "metadata": {},
          "execution_count": 13
        }
      ]
    },
    {
      "cell_type": "code",
      "source": [
        "data1.describe() #sadece abnormal olan veriler alındı."
      ],
      "metadata": {
        "id": "RbTZ5AeqO7ue",
        "colab": {
          "base_uri": "https://localhost:8080/",
          "height": 300
        },
        "outputId": "0e2b5779-d5af-4982-ef3b-56ff395cc0aa"
      },
      "execution_count": 14,
      "outputs": [
        {
          "output_type": "execute_result",
          "data": {
            "text/plain": [
              "       pelvic_incidence  pelvic_tilt numeric  lumbar_lordosis_angle  \\\n",
              "count        210.000000           210.000000             210.000000   \n",
              "mean          64.692562            19.791111              55.925370   \n",
              "std           17.662129            10.515871              19.669471   \n",
              "min           26.147921            -6.554948              14.000000   \n",
              "25%           50.102507            13.048130              41.116964   \n",
              "50%           65.274888            18.798899              56.150000   \n",
              "75%           77.593672            24.815515              68.102805   \n",
              "max          129.834041            49.431864             125.742385   \n",
              "\n",
              "       sacral_slope  pelvic_radius  degree_spondylolisthesis  \n",
              "count    210.000000     210.000000                210.000000  \n",
              "mean      44.901450     115.077713                 37.777705  \n",
              "std       14.515560      14.090605                 40.696741  \n",
              "min       13.366931      70.082575                -10.675871  \n",
              "25%       34.380345     107.309280                  7.263227  \n",
              "50%       44.639597     115.650323                 31.946516  \n",
              "75%       55.146868     123.133365                 55.371614  \n",
              "max      121.429566     163.071041                418.543082  "
            ],
            "text/html": [
              "\n",
              "  <div id=\"df-744ec196-6307-4743-9d54-2885bde01c36\">\n",
              "    <div class=\"colab-df-container\">\n",
              "      <div>\n",
              "<style scoped>\n",
              "    .dataframe tbody tr th:only-of-type {\n",
              "        vertical-align: middle;\n",
              "    }\n",
              "\n",
              "    .dataframe tbody tr th {\n",
              "        vertical-align: top;\n",
              "    }\n",
              "\n",
              "    .dataframe thead th {\n",
              "        text-align: right;\n",
              "    }\n",
              "</style>\n",
              "<table border=\"1\" class=\"dataframe\">\n",
              "  <thead>\n",
              "    <tr style=\"text-align: right;\">\n",
              "      <th></th>\n",
              "      <th>pelvic_incidence</th>\n",
              "      <th>pelvic_tilt numeric</th>\n",
              "      <th>lumbar_lordosis_angle</th>\n",
              "      <th>sacral_slope</th>\n",
              "      <th>pelvic_radius</th>\n",
              "      <th>degree_spondylolisthesis</th>\n",
              "    </tr>\n",
              "  </thead>\n",
              "  <tbody>\n",
              "    <tr>\n",
              "      <th>count</th>\n",
              "      <td>210.000000</td>\n",
              "      <td>210.000000</td>\n",
              "      <td>210.000000</td>\n",
              "      <td>210.000000</td>\n",
              "      <td>210.000000</td>\n",
              "      <td>210.000000</td>\n",
              "    </tr>\n",
              "    <tr>\n",
              "      <th>mean</th>\n",
              "      <td>64.692562</td>\n",
              "      <td>19.791111</td>\n",
              "      <td>55.925370</td>\n",
              "      <td>44.901450</td>\n",
              "      <td>115.077713</td>\n",
              "      <td>37.777705</td>\n",
              "    </tr>\n",
              "    <tr>\n",
              "      <th>std</th>\n",
              "      <td>17.662129</td>\n",
              "      <td>10.515871</td>\n",
              "      <td>19.669471</td>\n",
              "      <td>14.515560</td>\n",
              "      <td>14.090605</td>\n",
              "      <td>40.696741</td>\n",
              "    </tr>\n",
              "    <tr>\n",
              "      <th>min</th>\n",
              "      <td>26.147921</td>\n",
              "      <td>-6.554948</td>\n",
              "      <td>14.000000</td>\n",
              "      <td>13.366931</td>\n",
              "      <td>70.082575</td>\n",
              "      <td>-10.675871</td>\n",
              "    </tr>\n",
              "    <tr>\n",
              "      <th>25%</th>\n",
              "      <td>50.102507</td>\n",
              "      <td>13.048130</td>\n",
              "      <td>41.116964</td>\n",
              "      <td>34.380345</td>\n",
              "      <td>107.309280</td>\n",
              "      <td>7.263227</td>\n",
              "    </tr>\n",
              "    <tr>\n",
              "      <th>50%</th>\n",
              "      <td>65.274888</td>\n",
              "      <td>18.798899</td>\n",
              "      <td>56.150000</td>\n",
              "      <td>44.639597</td>\n",
              "      <td>115.650323</td>\n",
              "      <td>31.946516</td>\n",
              "    </tr>\n",
              "    <tr>\n",
              "      <th>75%</th>\n",
              "      <td>77.593672</td>\n",
              "      <td>24.815515</td>\n",
              "      <td>68.102805</td>\n",
              "      <td>55.146868</td>\n",
              "      <td>123.133365</td>\n",
              "      <td>55.371614</td>\n",
              "    </tr>\n",
              "    <tr>\n",
              "      <th>max</th>\n",
              "      <td>129.834041</td>\n",
              "      <td>49.431864</td>\n",
              "      <td>125.742385</td>\n",
              "      <td>121.429566</td>\n",
              "      <td>163.071041</td>\n",
              "      <td>418.543082</td>\n",
              "    </tr>\n",
              "  </tbody>\n",
              "</table>\n",
              "</div>\n",
              "      <button class=\"colab-df-convert\" onclick=\"convertToInteractive('df-744ec196-6307-4743-9d54-2885bde01c36')\"\n",
              "              title=\"Convert this dataframe to an interactive table.\"\n",
              "              style=\"display:none;\">\n",
              "        \n",
              "  <svg xmlns=\"http://www.w3.org/2000/svg\" height=\"24px\"viewBox=\"0 0 24 24\"\n",
              "       width=\"24px\">\n",
              "    <path d=\"M0 0h24v24H0V0z\" fill=\"none\"/>\n",
              "    <path d=\"M18.56 5.44l.94 2.06.94-2.06 2.06-.94-2.06-.94-.94-2.06-.94 2.06-2.06.94zm-11 1L8.5 8.5l.94-2.06 2.06-.94-2.06-.94L8.5 2.5l-.94 2.06-2.06.94zm10 10l.94 2.06.94-2.06 2.06-.94-2.06-.94-.94-2.06-.94 2.06-2.06.94z\"/><path d=\"M17.41 7.96l-1.37-1.37c-.4-.4-.92-.59-1.43-.59-.52 0-1.04.2-1.43.59L10.3 9.45l-7.72 7.72c-.78.78-.78 2.05 0 2.83L4 21.41c.39.39.9.59 1.41.59.51 0 1.02-.2 1.41-.59l7.78-7.78 2.81-2.81c.8-.78.8-2.07 0-2.86zM5.41 20L4 18.59l7.72-7.72 1.47 1.35L5.41 20z\"/>\n",
              "  </svg>\n",
              "      </button>\n",
              "      \n",
              "  <style>\n",
              "    .colab-df-container {\n",
              "      display:flex;\n",
              "      flex-wrap:wrap;\n",
              "      gap: 12px;\n",
              "    }\n",
              "\n",
              "    .colab-df-convert {\n",
              "      background-color: #E8F0FE;\n",
              "      border: none;\n",
              "      border-radius: 50%;\n",
              "      cursor: pointer;\n",
              "      display: none;\n",
              "      fill: #1967D2;\n",
              "      height: 32px;\n",
              "      padding: 0 0 0 0;\n",
              "      width: 32px;\n",
              "    }\n",
              "\n",
              "    .colab-df-convert:hover {\n",
              "      background-color: #E2EBFA;\n",
              "      box-shadow: 0px 1px 2px rgba(60, 64, 67, 0.3), 0px 1px 3px 1px rgba(60, 64, 67, 0.15);\n",
              "      fill: #174EA6;\n",
              "    }\n",
              "\n",
              "    [theme=dark] .colab-df-convert {\n",
              "      background-color: #3B4455;\n",
              "      fill: #D2E3FC;\n",
              "    }\n",
              "\n",
              "    [theme=dark] .colab-df-convert:hover {\n",
              "      background-color: #434B5C;\n",
              "      box-shadow: 0px 1px 3px 1px rgba(0, 0, 0, 0.15);\n",
              "      filter: drop-shadow(0px 1px 2px rgba(0, 0, 0, 0.3));\n",
              "      fill: #FFFFFF;\n",
              "    }\n",
              "  </style>\n",
              "\n",
              "      <script>\n",
              "        const buttonEl =\n",
              "          document.querySelector('#df-744ec196-6307-4743-9d54-2885bde01c36 button.colab-df-convert');\n",
              "        buttonEl.style.display =\n",
              "          google.colab.kernel.accessAllowed ? 'block' : 'none';\n",
              "\n",
              "        async function convertToInteractive(key) {\n",
              "          const element = document.querySelector('#df-744ec196-6307-4743-9d54-2885bde01c36');\n",
              "          const dataTable =\n",
              "            await google.colab.kernel.invokeFunction('convertToInteractive',\n",
              "                                                     [key], {});\n",
              "          if (!dataTable) return;\n",
              "\n",
              "          const docLinkHtml = 'Like what you see? Visit the ' +\n",
              "            '<a target=\"_blank\" href=https://colab.research.google.com/notebooks/data_table.ipynb>data table notebook</a>'\n",
              "            + ' to learn more about interactive tables.';\n",
              "          element.innerHTML = '';\n",
              "          dataTable['output_type'] = 'display_data';\n",
              "          await google.colab.output.renderOutput(dataTable, element);\n",
              "          const docLink = document.createElement('div');\n",
              "          docLink.innerHTML = docLinkHtml;\n",
              "          element.appendChild(docLink);\n",
              "        }\n",
              "      </script>\n",
              "    </div>\n",
              "  </div>\n",
              "  "
            ]
          },
          "metadata": {},
          "execution_count": 14
        }
      ]
    },
    {
      "cell_type": "code",
      "source": [
        "x = data1.iloc[:,[0,1]].values\n",
        "y = data1.pelvic_radius.values.reshape(-1,1)"
      ],
      "metadata": {
        "id": "6_pw1M9TzI4v"
      },
      "execution_count": 15,
      "outputs": []
    },
    {
      "cell_type": "code",
      "source": [
        "multiple_linear_regression.predict(np.array([[65.7308]]))"
      ],
      "metadata": {
        "colab": {
          "base_uri": "https://localhost:8080/"
        },
        "id": "5Q30tn6C0Kcv",
        "outputId": "eccf4538-557a-4ce3-da38-f38f3da3954f"
      },
      "execution_count": 16,
      "outputs": [
        {
          "output_type": "execute_result",
          "data": {
            "text/plain": [
              "array([[45.58717634]])"
            ]
          },
          "metadata": {},
          "execution_count": 16
        }
      ]
    },
    {
      "cell_type": "markdown",
      "source": [
        "# **Polynomial Linear Regression**"
      ],
      "metadata": {
        "id": "JicS3Hwttul1"
      }
    },
    {
      "cell_type": "code",
      "source": [
        "import pandas as pd\n",
        "import numpy as np\n",
        "import matplotlib.pyplot as plt\n",
        "from sklearn.model_selection import train_test_split\n",
        "from sklearn.linear_model import LinearRegression\n",
        "from sklearn.preprocessing import PolynomialFeatures\n",
        "from sklearn.metrics import r2_score"
      ],
      "metadata": {
        "id": "b7NgxtDrt33y"
      },
      "execution_count": null,
      "outputs": []
    },
    {
      "cell_type": "code",
      "source": [
        "df = pd.read_csv(\"/content/column_2C_weka.csv\")"
      ],
      "metadata": {
        "id": "HvCUSWfPv4nr"
      },
      "execution_count": null,
      "outputs": []
    },
    {
      "cell_type": "code",
      "source": [
        "abnormaldata1 = df[df['class'] =='Abnormal']\n",
        "x = np.array(abnormaldata1.loc[:,\"pelvic_incidence\"]).reshape(-1,1)\n",
        "y = np.array(abnormaldata1.loc[:,\"sacral_slope\"]).reshape(-1,1)\n",
        "\n",
        "plt.scatter(x,y)\n",
        "plt.xlabel(\"pelvic_incidence\")\n",
        "plt.ylabel('sacral_slope')\n",
        "plt.show()"
      ],
      "metadata": {
        "colab": {
          "base_uri": "https://localhost:8080/",
          "height": 280
        },
        "id": "orciO7_sv6Gb",
        "outputId": "e7f671ed-c492-4dca-df43-2dc9d9f90bb7"
      },
      "execution_count": null,
      "outputs": [
        {
          "output_type": "display_data",
          "data": {
            "text/plain": [
              "<Figure size 432x288 with 1 Axes>"
            ],
            "image/png": "[encoded data removed]"
          },
          "metadata": {
            "needs_background": "light"
          }
        }
      ]
    },
    {
      "cell_type": "code",
      "source": [
        "x_train, x_test, y_train, y_test = train_test_split(x, y, test_size=0.2, random_state=2)"
      ],
      "metadata": {
        "id": "raKfdGFgDnst"
      },
      "execution_count": null,
      "outputs": []
    },
    {
      "cell_type": "code",
      "source": [
        "lr = LinearRegression()\n",
        "lr.fit(x_train, y_train)\n",
        "y_pred = lr.predict(x_test)\n",
        "print(r2_score(y_test, y_pred))"
      ],
      "metadata": {
        "colab": {
          "base_uri": "https://localhost:8080/"
        },
        "id": "oWhl_lBaDpcc",
        "outputId": "dd700046-2045-41c3-9847-092caf3602ba"
      },
      "execution_count": null,
      "outputs": [
        {
          "output_type": "stream",
          "name": "stdout",
          "text": [
            "0.427619799498007\n"
          ]
        }
      ]
    },
    {
      "cell_type": "code",
      "source": [
        "poly = PolynomialFeatures(degree=4, include_bias=True)\n",
        "x_train_trans = poly.fit_transform(x_train)\n",
        "x_test_trans = poly.transform(x_test)\n",
        "#include bias parameter\n",
        "lr = LinearRegression()\n",
        "lr.fit(x_train_trans, y_train)\n",
        "y_pred = lr.predict(x_test_trans)\n",
        "print(r2_score(y_test, y_pred))\n"
      ],
      "metadata": {
        "colab": {
          "base_uri": "https://localhost:8080/"
        },
        "id": "rHRZ1m8ZDr3M",
        "outputId": "ac12bd01-f099-400a-fb59-e807ba6daae4"
      },
      "execution_count": null,
      "outputs": [
        {
          "output_type": "stream",
          "name": "stdout",
          "text": [
            "0.46077463932955154\n"
          ]
        }
      ]
    },
    {
      "cell_type": "code",
      "source": [
        "X_new = np.linspace(0, 132, 200).reshape(200, 1)\n",
        "X_new_poly = poly.transform(X_new)\n",
        "y_new = lr.predict(X_new_poly)\n",
        "plt.figure(figsize=[10,10])\n",
        "plt.plot(X_new, y_new, \"r-\", linewidth=2, label=\"Predictions\")\n",
        "plt.plot(x_train, y_train, \"b.\",label='Training points')\n",
        "plt.plot(x_test, y_test, \"g.\",label='Testing points')\n",
        "plt.xlabel(\"pelvic_incidence\")\n",
        "plt.ylabel('sacral_slope')\n",
        "plt.legend()\n",
        "plt.show()\n"
      ],
      "metadata": {
        "colab": {
          "base_uri": "https://localhost:8080/",
          "height": 606
        },
        "id": "GgwUFMIwDs3s",
        "outputId": "24aa4585-78d0-488f-d881-4b6a88b48d4e"
      },
      "execution_count": null,
      "outputs": [
        {
          "output_type": "display_data",
          "data": {
            "text/plain": [
              "<Figure size 720x720 with 1 Axes>"
            ],
            "image/png": "[encoded data removed]"
          },
          "metadata": {
            "needs_background": "light"
          }
        }
      ]
    },
    {
      "cell_type": "code",
      "source": [
        ""
      ],
      "metadata": {
        "id": "HNVG-UVPFqnd"
      },
      "execution_count": null,
      "outputs": []
    }
  ]
}