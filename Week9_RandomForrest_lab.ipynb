{
  "nbformat": 4,
  "nbformat_minor": 0,
  "metadata": {
    "colab": {
      "name": "Week9_RandomForrest_lab",
      "provenance": [],
      "collapsed_sections": [],
      "authorship_tag": "ABX9TyO0KpTwl4DsPFJ9RudsPHjY",
      "include_colab_link": true
    },
    "kernelspec": {
      "name": "python3",
      "display_name": "Python 3"
    },
    "language_info": {
      "name": "python"
    }
  },
  "cells": [
    {
      "cell_type": "markdown",
      "metadata": {
        "id": "view-in-github",
        "colab_type": "text"
      },
      "source": [
        "<a href=\"https://colab.research.google.com/github/suleymanVR/MachineLearning/blob/main/Week9_RandomForrest_lab.ipynb\" target=\"_parent\"><img src=\"https://colab.research.google.com/assets/colab-badge.svg\" alt=\"Open In Colab\"/></a>"
      ]
    },
    {
      "cell_type": "code",
      "execution_count": 44,
      "metadata": {
        "id": "H4terlNbeDyO"
      },
      "outputs": [],
      "source": [
        "import pandas as pd\n",
        "import numpy as np\n",
        "import matplotlib.pyplot as plt\n",
        "#%%  import data\n",
        "\n",
        "data = pd.read_csv(\"data.csv\")\n",
        "data.drop([\"id\",\"Unnamed: 32\"],axis=1,inplace = True)"
      ]
    },
    {
      "cell_type": "code",
      "source": [
        "# %%\n",
        "data.diagnosis = [ 1 if each == \"M\" else 0 for each in data.diagnosis]\n",
        "y = data.diagnosis.values\n",
        "x_data = data.drop([\"diagnosis\"],axis=1)\n",
        "#%% normalization\n",
        "\n",
        "x = (x_data - np.min(x_data))/(np.max(x_data)-np.min(x_data))"
      ],
      "metadata": {
        "id": "oSmGlhFbeK9P"
      },
      "execution_count": 45,
      "outputs": []
    },
    {
      "cell_type": "code",
      "source": [
        "# %% train test split\n",
        "from sklearn.model_selection import train_test_split\n",
        "x_train, x_test,y_train, y_test = train_test_split(x,y,test_size = 0.30,random_state = 42)"
      ],
      "metadata": {
        "id": "jieoToNOeMx_"
      },
      "execution_count": 46,
      "outputs": []
    },
    {
      "cell_type": "code",
      "source": [
        "#%% decision tree\n",
        "from sklearn.tree import DecisionTreeClassifier\n",
        "dt = DecisionTreeClassifier()\n",
        "dt.fit(x_train,y_train)\n",
        "print(\"decision tree score: \", dt.score(x_test,y_test))"
      ],
      "metadata": {
        "colab": {
          "base_uri": "https://localhost:8080/"
        },
        "id": "aHZnmwVceN1I",
        "outputId": "ca57ceb4-6139-4b54-f732-f85adbf5ac9a"
      },
      "execution_count": 47,
      "outputs": [
        {
          "output_type": "stream",
          "name": "stdout",
          "text": [
            "decision tree score:  0.9239766081871345\n"
          ]
        }
      ]
    },
    {
      "cell_type": "code",
      "source": [
        "from sklearn.ensemble import RandomForestClassifier"
      ],
      "metadata": {
        "id": "TqbmlYXXhqvg"
      },
      "execution_count": 48,
      "outputs": []
    },
    {
      "cell_type": "code",
      "source": [
        "list_accuracy = []\n",
        "for i in range(1,100):\n",
        "  rf = RandomForestClassifier(n_estimators = i,random_state = 42)\n",
        "  rf.fit(x_train,y_train)\n",
        "  list_accuracy.append(rf.score(x_test,y_test))"
      ],
      "metadata": {
        "id": "PRUKguSahccg"
      },
      "execution_count": 49,
      "outputs": []
    },
    {
      "cell_type": "code",
      "source": [
        "plt.figure(figsize=(12,6))\n",
        "plt.plot(range(1,100), list_accuracy,\n",
        "         color=\"blue\",\n",
        "         linewidth=3,\n",
        "         linestyle=\":\",\n",
        "         marker=\"o\",\n",
        "         markerfacecolor=\"yellow\",\n",
        "         markeredgewidth=2, \n",
        "         markeredgecolor=\"blue\")\n",
        "plt.xlabel(\"n_estimators Values\")\n",
        "plt.ylabel(\"Accuracy\")\n",
        "plt.show()"
      ],
      "metadata": {
        "colab": {
          "base_uri": "https://localhost:8080/",
          "height": 389
        },
        "id": "BTDqy37SiXlg",
        "outputId": "17c6033d-a2b8-4e44-a5d0-940d5d70fdba"
      },
      "execution_count": 50,
      "outputs": [
        {
          "output_type": "display_data",
          "data": {
            "text/plain": [
              "<Figure size 864x432 with 1 Axes>"
            ],
            "image/png": "[encoded data removed]"
          },
          "metadata": {
            "needs_background": "light"
          }
        }
      ]
    },
    {
      "cell_type": "code",
      "source": [
        "print(\"random forest algo result: \",rf.score(x_test,y_test))"
      ],
      "metadata": {
        "colab": {
          "base_uri": "https://localhost:8080/"
        },
        "id": "f4kU9_0Lh-XQ",
        "outputId": "39ed4613-e49b-4553-cd9f-9a27824db11f"
      },
      "execution_count": 51,
      "outputs": [
        {
          "output_type": "stream",
          "name": "stdout",
          "text": [
            "random forest algo result:  0.9707602339181286\n"
          ]
        }
      ]
    },
    {
      "cell_type": "code",
      "source": [
        "max(list_accuracy)"
      ],
      "metadata": {
        "colab": {
          "base_uri": "https://localhost:8080/"
        },
        "id": "EGAhCjodls1w",
        "outputId": "1795fb15-6616-46ba-87c9-61face026cbd"
      },
      "execution_count": 53,
      "outputs": [
        {
          "output_type": "execute_result",
          "data": {
            "text/plain": [
              "0.9766081871345029"
            ]
          },
          "metadata": {},
          "execution_count": 53
        }
      ]
    },
    {
      "cell_type": "code",
      "source": [
        "list_accuracy2 = []\n",
        "for i in range(1,100):\n",
        "  rf = RandomForestClassifier(n_estimators = i,random_state = 42)\n",
        "  rf.fit(x_train,y_train)\n",
        "  list_accuracy2.append(rf.score(x_test,y_test))\n",
        "  print(i,list_accuracy2.pop())"
      ],
      "metadata": {
        "colab": {
          "base_uri": "https://localhost:8080/"
        },
        "id": "i24hUAHriv06",
        "outputId": "2d112802-a70f-40da-ca42-c8b63e674fb5"
      },
      "execution_count": 52,
      "outputs": [
        {
          "output_type": "stream",
          "name": "stdout",
          "text": [
            "1 0.9473684210526315\n",
            "2 0.9649122807017544\n",
            "3 0.9590643274853801\n",
            "4 0.9590643274853801\n",
            "5 0.9649122807017544\n",
            "6 0.9649122807017544\n",
            "7 0.9707602339181286\n",
            "8 0.9649122807017544\n",
            "9 0.9707602339181286\n",
            "10 0.9707602339181286\n",
            "11 0.9707602339181286\n",
            "12 0.9707602339181286\n",
            "13 0.9707602339181286\n",
            "14 0.9707602339181286\n",
            "15 0.9707602339181286\n",
            "16 0.9707602339181286\n",
            "17 0.9707602339181286\n",
            "18 0.9707602339181286\n",
            "19 0.9707602339181286\n",
            "20 0.9766081871345029\n",
            "21 0.9766081871345029\n",
            "22 0.9707602339181286\n",
            "23 0.9707602339181286\n",
            "24 0.9707602339181286\n",
            "25 0.9707602339181286\n",
            "26 0.9707602339181286\n",
            "27 0.9707602339181286\n",
            "28 0.9707602339181286\n",
            "29 0.9707602339181286\n",
            "30 0.9707602339181286\n",
            "31 0.9707602339181286\n",
            "32 0.9707602339181286\n",
            "33 0.9707602339181286\n",
            "34 0.9707602339181286\n",
            "35 0.9707602339181286\n",
            "36 0.9707602339181286\n",
            "37 0.9707602339181286\n",
            "38 0.9707602339181286\n",
            "39 0.9707602339181286\n",
            "40 0.9707602339181286\n",
            "41 0.9707602339181286\n",
            "42 0.9707602339181286\n",
            "43 0.9707602339181286\n",
            "44 0.9707602339181286\n",
            "45 0.9707602339181286\n",
            "46 0.9707602339181286\n",
            "47 0.9707602339181286\n",
            "48 0.9707602339181286\n",
            "49 0.9707602339181286\n",
            "50 0.9707602339181286\n",
            "51 0.9707602339181286\n",
            "52 0.9707602339181286\n",
            "53 0.9707602339181286\n",
            "54 0.9707602339181286\n",
            "55 0.9707602339181286\n",
            "56 0.9707602339181286\n",
            "57 0.9707602339181286\n",
            "58 0.9707602339181286\n",
            "59 0.9707602339181286\n",
            "60 0.9707602339181286\n",
            "61 0.9707602339181286\n",
            "62 0.9707602339181286\n",
            "63 0.9707602339181286\n",
            "64 0.9707602339181286\n",
            "65 0.9707602339181286\n",
            "66 0.9649122807017544\n",
            "67 0.9707602339181286\n",
            "68 0.9649122807017544\n",
            "69 0.9649122807017544\n",
            "70 0.9649122807017544\n",
            "71 0.9649122807017544\n",
            "72 0.9649122807017544\n",
            "73 0.9649122807017544\n",
            "74 0.9649122807017544\n",
            "75 0.9707602339181286\n",
            "76 0.9649122807017544\n",
            "77 0.9649122807017544\n",
            "78 0.9649122807017544\n",
            "79 0.9649122807017544\n",
            "80 0.9649122807017544\n",
            "81 0.9649122807017544\n",
            "82 0.9649122807017544\n",
            "83 0.9649122807017544\n",
            "84 0.9649122807017544\n",
            "85 0.9649122807017544\n",
            "86 0.9649122807017544\n",
            "87 0.9649122807017544\n",
            "88 0.9649122807017544\n",
            "89 0.9707602339181286\n",
            "90 0.9649122807017544\n",
            "91 0.9649122807017544\n",
            "92 0.9649122807017544\n",
            "93 0.9707602339181286\n",
            "94 0.9707602339181286\n",
            "95 0.9707602339181286\n",
            "96 0.9707602339181286\n",
            "97 0.9707602339181286\n",
            "98 0.9707602339181286\n",
            "99 0.9707602339181286\n"
          ]
        }
      ]
    }
  ]
}