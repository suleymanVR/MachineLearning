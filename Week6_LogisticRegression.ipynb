{
  "nbformat": 4,
  "nbformat_minor": 0,
  "metadata": {
    "colab": {
      "name": "Week6_LogisticRegression",
      "provenance": [],
      "collapsed_sections": [],
      "toc_visible": true,
      "authorship_tag": "ABX9TyNasQZi4xb69dcchGY02FFF",
      "include_colab_link": true
    },
    "kernelspec": {
      "name": "python3",
      "display_name": "Python 3"
    },
    "language_info": {
      "name": "python"
    }
  },
  "cells": [
    {
      "cell_type": "markdown",
      "metadata": {
        "id": "view-in-github",
        "colab_type": "text"
      },
      "source": [
        "<a href=\"https://colab.research.google.com/github/suleymanVR/MachineLearning/blob/main/Week6_LogisticRegression.ipynb\" target=\"_parent\"><img src=\"https://colab.research.google.com/assets/colab-badge.svg\" alt=\"Open In Colab\"/></a>"
      ]
    },
    {
      "cell_type": "markdown",
      "source": [
        "# LogisticRegression"
      ],
      "metadata": {
        "id": "LOQGYyf6xknp"
      }
    },
    {
      "cell_type": "code",
      "source": [
        "import pandas as pd\n",
        "import numpy as np\n",
        "import matplotlib.pyplot as plt"
      ],
      "metadata": {
        "id": "gZxY68FDxpyh"
      },
      "execution_count": 1,
      "outputs": []
    },
    {
      "cell_type": "code",
      "source": [
        "data = pd.read_csv(\"/content/data.csv\") #İyi ve kötü huylu kanser hücreleri hakkında dataset // #M kotu huylu tumor B iyi huylu tumor\n",
        "data.drop([\"Unnamed: 32\",\"id\"],axis=1,inplace=True) #Verideki Unnamed: 32 ve id isimli kısımları kaldırdık\n",
        "data.diagnosis = [1 if each ==\"M\" else 0 for each in data.diagnosis]\n",
        "print(data.info())\n",
        "\n",
        "y=data.diagnosis.values\n",
        "x_data = data.drop([\"diagnosis\"],axis=1) #data.diagnosis harici butun veriler x ekseninde olacak."
      ],
      "metadata": {
        "colab": {
          "base_uri": "https://localhost:8080/"
        },
        "id": "aVw660WNxtVI",
        "outputId": "2bd4a3fe-b16e-4fb1-ffba-776824ab6b7c"
      },
      "execution_count": 2,
      "outputs": [
        {
          "output_type": "stream",
          "name": "stdout",
          "text": [
            "<class 'pandas.core.frame.DataFrame'>\n",
            "RangeIndex: 569 entries, 0 to 568\n",
            "Data columns (total 31 columns):\n",
            " #   Column                   Non-Null Count  Dtype  \n",
            "---  ------                   --------------  -----  \n",
            " 0   diagnosis                569 non-null    int64  \n",
            " 1   radius_mean              569 non-null    float64\n",
            " 2   texture_mean             569 non-null    float64\n",
            " 3   perimeter_mean           569 non-null    float64\n",
            " 4   area_mean                569 non-null    float64\n",
            " 5   smoothness_mean          569 non-null    float64\n",
            " 6   compactness_mean         569 non-null    float64\n",
            " 7   concavity_mean           569 non-null    float64\n",
            " 8   concave points_mean      569 non-null    float64\n",
            " 9   symmetry_mean            569 non-null    float64\n",
            " 10  fractal_dimension_mean   569 non-null    float64\n",
            " 11  radius_se                569 non-null    float64\n",
            " 12  texture_se               569 non-null    float64\n",
            " 13  perimeter_se             569 non-null    float64\n",
            " 14  area_se                  569 non-null    float64\n",
            " 15  smoothness_se            569 non-null    float64\n",
            " 16  compactness_se           569 non-null    float64\n",
            " 17  concavity_se             569 non-null    float64\n",
            " 18  concave points_se        569 non-null    float64\n",
            " 19  symmetry_se              569 non-null    float64\n",
            " 20  fractal_dimension_se     569 non-null    float64\n",
            " 21  radius_worst             569 non-null    float64\n",
            " 22  texture_worst            569 non-null    float64\n",
            " 23  perimeter_worst          569 non-null    float64\n",
            " 24  area_worst               569 non-null    float64\n",
            " 25  smoothness_worst         569 non-null    float64\n",
            " 26  compactness_worst        569 non-null    float64\n",
            " 27  concavity_worst          569 non-null    float64\n",
            " 28  concave points_worst     569 non-null    float64\n",
            " 29  symmetry_worst           569 non-null    float64\n",
            " 30  fractal_dimension_worst  569 non-null    float64\n",
            "dtypes: float64(30), int64(1)\n",
            "memory usage: 137.9 KB\n",
            "None\n"
          ]
        }
      ]
    },
    {
      "cell_type": "markdown",
      "source": [
        "Normalization"
      ],
      "metadata": {
        "id": "gC9ze8LLx_Ls"
      }
    },
    {
      "cell_type": "code",
      "source": [
        "# (x-min(x))/(max(x)-min(x))\n",
        "x=(x_data - np.min(x_data))/(np.max(x_data)-np.min(x_data)).values"
      ],
      "metadata": {
        "id": "O1Rd2nGGx7fH"
      },
      "execution_count": 3,
      "outputs": []
    },
    {
      "cell_type": "markdown",
      "source": [
        "Train-test split"
      ],
      "metadata": {
        "id": "30WVxU0zyH00"
      }
    },
    {
      "cell_type": "code",
      "source": [
        "from sklearn.model_selection import train_test_split\n",
        "x_train,x_test,y_train,y_test = train_test_split(x,y,test_size=0.2,random_state=42) #%20lik kismi test icin ayirdik\n",
        "\n",
        "#transpozlarını aldik\n",
        "x_train = x_train.T \n",
        "x_test = x_test.T\n",
        "y_train = y_train.T\n",
        "y_test = y_test.T\n",
        "\n",
        "print(\"x_train:\",x_train.shape)\n",
        "print(\"x_test,:\",x_test.shape)\n",
        "print(\"y_train\",y_train.shape)\n",
        "print(\"y_test:\",y_test.shape)"
      ],
      "metadata": {
        "colab": {
          "base_uri": "https://localhost:8080/"
        },
        "id": "8RamzuN4yFnp",
        "outputId": "033b6e9f-3d89-49a1-ec98-df7c918523f0"
      },
      "execution_count": 4,
      "outputs": [
        {
          "output_type": "stream",
          "name": "stdout",
          "text": [
            "x_train: (30, 455)\n",
            "x_test,: (30, 114)\n",
            "y_train (455,)\n",
            "y_test: (114,)\n"
          ]
        }
      ]
    },
    {
      "cell_type": "code",
      "source": [
        "# parameter initialize and sigmoid function\n",
        "# dimension = 30 \n",
        "# w=weight(agirlik), b=bias\n",
        "\n",
        "def initialize_weights_and_bias(dimension):\n",
        "    \n",
        "    w = np.full((dimension,1),0.01) #0.01'lerden olusan bir matris olusturur. #En basta rastgele sectigimiz weight degerlerini buradan alıyoruz.\n",
        "    b = 0.0\n",
        "    return w,b\n",
        "    \n",
        "#w,b = initialize_weights_and_bias(30)\n",
        "\n",
        "def sigmoid(z):\n",
        "    \n",
        "    y_head =1/(1 + np.exp(-z)) #sigmoid f. formulu\n",
        "    return y_head"
      ],
      "metadata": {
        "id": "XQBPQ9H_yRA0"
      },
      "execution_count": 5,
      "outputs": []
    },
    {
      "cell_type": "code",
      "source": [
        "def forward_backward_propagation(w,b,x_train,train):\n",
        "    #forward propagation\n",
        "    z = np.dot(w.T,x_train) + b\n",
        "    y_head = sigmoid(z)\n",
        "    loss = -y_train*np.log(y_head)-(1-y_train)*np.log(1-y_head)\n",
        "    cost = (np.sum(loss))/x_train.shape[1]\n",
        "    \n",
        "    #backward propagation\n",
        "    derivative_weight = (np.dot(x_train,((y_head-y_train).T)))/x_train.shape[1]\n",
        "    derivative_bias = np.sum(y_head-y_train)/x_train.shape[1]\n",
        "    gradients = {\"derivative_weight\": derivative_weight,\"derivative_bias\": derivative_bias}\n",
        "    return cost,gradients\n",
        "\n",
        "    # 1 forward propagation + 1 backward propagation = 1 number_of_iteration\n",
        "    # En basta rastgele 0.01 olarak aldıgımız weight degerlerini en verimli hale getirmek icin forward ve backward pro. uyguluyoruz."
      ],
      "metadata": {
        "id": "CTaAvdpRyZtV"
      },
      "execution_count": 6,
      "outputs": []
    },
    {
      "cell_type": "code",
      "source": [
        "#number_of_iteration = kac kez backward ve forward propagation yapacagimiz.(1back+1forwawrd=1number_of_iteration)\n",
        "def update(w, b, x_train, y_train, learning_rate, number_of_iteration):\n",
        "    cost_list = []\n",
        "    cost_list2 = []\n",
        "    index = []\n",
        "    \n",
        "    for i in range(number_of_iteration):\n",
        "        cost,gradients = forward_backward_propagation(w,b,x_train,y_train)\n",
        "        cost_list.append(cost) #tüm costlarin degerini tutuyoruz\n",
        "        \n",
        "        #weight - learningrate * weigthin cost'a gore turevi\n",
        "        w = w - learning_rate * gradients[\"derivative_weight\"]\n",
        "        b = b - learning_rate * gradients[\"derivative_bias\"]\n",
        "        if i % 10 == 0: #her 10 adimda bir costlarin degerini tutar\n",
        "            cost_list2.append(cost)\n",
        "            index.append(i)\n",
        "            print(\"Cost after iteration %i: %f\" %(i, cost))\n",
        "            \n",
        "            \n",
        "    parameters = {\"weight\":w,\"bias\":b}\n",
        "    plt.plot(index,cost_list2)\n",
        "    plt.xticks(index,cost_list2)\n",
        "    plt.xlabel(\"Number of Iteration\")\n",
        "    plt.ylabel(\"Cost\")\n",
        "    plt.show()\n",
        "    #cost ile gradient degerleri birbiri ile bağlantili degerlerdir birisi azalirsa digeri de azalir\n",
        "    return parameters,gradients,cost_list2 "
      ],
      "metadata": {
        "id": "RzosWofvyaSh"
      },
      "execution_count": 7,
      "outputs": []
    },
    {
      "cell_type": "code",
      "source": [
        "def predict(w,b,x_test):\n",
        "    \n",
        "    z = sigmoid(np.dot(w.T,x_test)+b)\n",
        "    Y_prediction = np.zeros((1,x_test.shape[1]))\n",
        "    \n",
        "    for i in range(z.shape[1]):\n",
        "        if z[0,i]<=0.5:\n",
        "            Y_prediction[0,i] = 0\n",
        "        else:\n",
        "            Y_prediction[0,i] = 1\n",
        "            \n",
        "    return Y_prediction"
      ],
      "metadata": {
        "id": "Iy244iL7ycpa"
      },
      "execution_count": 8,
      "outputs": []
    },
    {
      "cell_type": "code",
      "source": [
        "def logistic_regression(x_train, y_train, x_test, y_test, learning_rate , num_iterations):\n",
        "    # initialize\n",
        "    dimension =  x_train.shape[0]  # that is 30\n",
        "    w,b = initialize_weights_and_bias(dimension)\n",
        "    # do not change learning rate\n",
        "    parameters, gradients, cost_list = update(w, b, x_train, y_train, learning_rate,num_iterations)\n",
        "    \n",
        "    y_prediction_test = predict(parameters[\"weight\"],parameters[\"bias\"],x_test)\n",
        "\n",
        "    # Print train/test Errors\n",
        "    print(\"test accuracy: {} %\".format(100 - np.mean(np.abs(y_prediction_test - y_test)) * 100))\n",
        "    \n",
        "logistic_regression(x_train, y_train, x_test, y_test,learning_rate = 1, num_iterations = 300)\n",
        "\n",
        "# learning rate ve num_iterations degerlerini degistirerek accuracy degerini bir noktaya kadar arttırabiliriz.\n",
        "# learning rate degerini fazla yükseltmek iyi egitilmemis bir makine olusturabilir.\n",
        "# Test accuracy 96.49122807017544 %"
      ],
      "metadata": {
        "colab": {
          "base_uri": "https://localhost:8080/",
          "height": 817
        },
        "id": "83jYs60MyeQB",
        "outputId": "c14e3daa-7649-41b0-eb57-0949df4eaae8"
      },
      "execution_count": 9,
      "outputs": [
        {
          "output_type": "stream",
          "name": "stdout",
          "text": [
            "Cost after iteration 0: 0.692977\n",
            "Cost after iteration 10: 0.499667\n",
            "Cost after iteration 20: 0.406616\n",
            "Cost after iteration 30: 0.351936\n",
            "Cost after iteration 40: 0.315762\n",
            "Cost after iteration 50: 0.289862\n",
            "Cost after iteration 60: 0.270257\n",
            "Cost after iteration 70: 0.254795\n",
            "Cost after iteration 80: 0.242214\n",
            "Cost after iteration 90: 0.231722\n",
            "Cost after iteration 100: 0.222796\n",
            "Cost after iteration 110: 0.215080\n",
            "Cost after iteration 120: 0.208317\n",
            "Cost after iteration 130: 0.202324\n",
            "Cost after iteration 140: 0.196961\n",
            "Cost after iteration 150: 0.192121\n",
            "Cost after iteration 160: 0.187722\n",
            "Cost after iteration 170: 0.183698\n",
            "Cost after iteration 180: 0.179997\n",
            "Cost after iteration 190: 0.176577\n",
            "Cost after iteration 200: 0.173402\n",
            "Cost after iteration 210: 0.170443\n",
            "Cost after iteration 220: 0.167676\n",
            "Cost after iteration 230: 0.165080\n",
            "Cost after iteration 240: 0.162638\n",
            "Cost after iteration 250: 0.160334\n",
            "Cost after iteration 260: 0.158155\n",
            "Cost after iteration 270: 0.156091\n",
            "Cost after iteration 280: 0.154131\n",
            "Cost after iteration 290: 0.152266\n"
          ]
        },
        {
          "output_type": "display_data",
          "data": {
            "text/plain": [
              "<Figure size 432x288 with 1 Axes>"
            ],
            "image/png": "[encoded data removed]"
          },
          "metadata": {
            "needs_background": "light"
          }
        },
        {
          "output_type": "stream",
          "name": "stdout",
          "text": [
            "test accuracy: 96.49122807017544 %\n"
          ]
        }
      ]
    },
    {
      "cell_type": "markdown",
      "source": [
        "Learning rate = 3 num_iteration = 1000 oldugu durumda accuracy degerini kontrol edelim."
      ],
      "metadata": {
        "id": "PCdlJwXO0f55"
      }
    },
    {
      "cell_type": "code",
      "source": [
        "def logistic_regression(x_train, y_train, x_test, y_test, learning_rate , num_iterations):\n",
        "    # initialize\n",
        "    dimension =  x_train.shape[0]  # that is 30\n",
        "    w,b = initialize_weights_and_bias(dimension)\n",
        "    # do not change learning rate\n",
        "    parameters, gradients, cost_list = update(w, b, x_train, y_train, learning_rate,num_iterations)\n",
        "    \n",
        "    y_prediction_test = predict(parameters[\"weight\"],parameters[\"bias\"],x_test)\n",
        "\n",
        "    # Print train/test Errors\n",
        "    print(\"test accuracy: {} %\".format(100 - np.mean(np.abs(y_prediction_test - y_test)) * 100))\n",
        "    \n",
        "logistic_regression(x_train, y_train, x_test, y_test,learning_rate = 3, num_iterations = 1000)\n",
        "\n",
        "# Test accuracy 97.36842105263158 %\n",
        "# Accuracy degerinde %1'lik bir artıs gerceklesti"
      ],
      "metadata": {
        "colab": {
          "base_uri": "https://localhost:8080/",
          "height": 1000
        },
        "id": "8M34czfx0nvQ",
        "outputId": "b17f3d3a-1568-4b3b-b133-ab400e32e90d"
      },
      "execution_count": 11,
      "outputs": [
        {
          "output_type": "stream",
          "name": "stdout",
          "text": [
            "Cost after iteration 0: 0.692977\n",
            "Cost after iteration 10: 0.350527\n",
            "Cost after iteration 20: 0.266641\n",
            "Cost after iteration 30: 0.229564\n",
            "Cost after iteration 40: 0.206850\n",
            "Cost after iteration 50: 0.191037\n",
            "Cost after iteration 60: 0.179152\n",
            "Cost after iteration 70: 0.169757\n",
            "Cost after iteration 80: 0.162063\n",
            "Cost after iteration 90: 0.155600\n",
            "Cost after iteration 100: 0.150061\n",
            "Cost after iteration 110: 0.145243\n",
            "Cost after iteration 120: 0.140998\n",
            "Cost after iteration 130: 0.137221\n",
            "Cost after iteration 140: 0.133830\n",
            "Cost after iteration 150: 0.130766\n",
            "Cost after iteration 160: 0.127978\n",
            "Cost after iteration 170: 0.125428\n",
            "Cost after iteration 180: 0.123084\n",
            "Cost after iteration 190: 0.120920\n",
            "Cost after iteration 200: 0.118915\n",
            "Cost after iteration 210: 0.117051\n",
            "Cost after iteration 220: 0.115311\n",
            "Cost after iteration 230: 0.113683\n",
            "Cost after iteration 240: 0.112156\n",
            "Cost after iteration 250: 0.110720\n",
            "Cost after iteration 260: 0.109365\n",
            "Cost after iteration 270: 0.108086\n",
            "Cost after iteration 280: 0.106875\n",
            "Cost after iteration 290: 0.105726\n",
            "Cost after iteration 300: 0.104634\n",
            "Cost after iteration 310: 0.103595\n",
            "Cost after iteration 320: 0.102605\n",
            "Cost after iteration 330: 0.101660\n",
            "Cost after iteration 340: 0.100756\n",
            "Cost after iteration 350: 0.099891\n",
            "Cost after iteration 360: 0.099062\n",
            "Cost after iteration 370: 0.098266\n",
            "Cost after iteration 380: 0.097502\n",
            "Cost after iteration 390: 0.096767\n",
            "Cost after iteration 400: 0.096059\n",
            "Cost after iteration 410: 0.095378\n",
            "Cost after iteration 420: 0.094720\n",
            "Cost after iteration 430: 0.094085\n",
            "Cost after iteration 440: 0.093472\n",
            "Cost after iteration 450: 0.092879\n",
            "Cost after iteration 460: 0.092306\n",
            "Cost after iteration 470: 0.091750\n",
            "Cost after iteration 480: 0.091211\n",
            "Cost after iteration 490: 0.090689\n",
            "Cost after iteration 500: 0.090182\n",
            "Cost after iteration 510: 0.089690\n",
            "Cost after iteration 520: 0.089212\n",
            "Cost after iteration 530: 0.088748\n",
            "Cost after iteration 540: 0.088296\n",
            "Cost after iteration 550: 0.087856\n",
            "Cost after iteration 560: 0.087427\n",
            "Cost after iteration 570: 0.087010\n",
            "Cost after iteration 580: 0.086603\n",
            "Cost after iteration 590: 0.086206\n",
            "Cost after iteration 600: 0.085819\n",
            "Cost after iteration 610: 0.085441\n",
            "Cost after iteration 620: 0.085072\n",
            "Cost after iteration 630: 0.084712\n",
            "Cost after iteration 640: 0.084359\n",
            "Cost after iteration 650: 0.084015\n",
            "Cost after iteration 660: 0.083678\n",
            "Cost after iteration 670: 0.083348\n",
            "Cost after iteration 680: 0.083026\n",
            "Cost after iteration 690: 0.082710\n",
            "Cost after iteration 700: 0.082401\n",
            "Cost after iteration 710: 0.082098\n",
            "Cost after iteration 720: 0.081801\n",
            "Cost after iteration 730: 0.081510\n",
            "Cost after iteration 740: 0.081224\n",
            "Cost after iteration 750: 0.080944\n",
            "Cost after iteration 760: 0.080669\n",
            "Cost after iteration 770: 0.080400\n",
            "Cost after iteration 780: 0.080135\n",
            "Cost after iteration 790: 0.079875\n",
            "Cost after iteration 800: 0.079620\n",
            "Cost after iteration 810: 0.079369\n",
            "Cost after iteration 820: 0.079122\n",
            "Cost after iteration 830: 0.078880\n",
            "Cost after iteration 840: 0.078641\n",
            "Cost after iteration 850: 0.078407\n",
            "Cost after iteration 860: 0.078177\n",
            "Cost after iteration 870: 0.077950\n",
            "Cost after iteration 880: 0.077727\n",
            "Cost after iteration 890: 0.077507\n",
            "Cost after iteration 900: 0.077291\n",
            "Cost after iteration 910: 0.077078\n",
            "Cost after iteration 920: 0.076869\n",
            "Cost after iteration 930: 0.076663\n",
            "Cost after iteration 940: 0.076459\n",
            "Cost after iteration 950: 0.076259\n",
            "Cost after iteration 960: 0.076061\n",
            "Cost after iteration 970: 0.075867\n",
            "Cost after iteration 980: 0.075675\n",
            "Cost after iteration 990: 0.075486\n"
          ]
        },
        {
          "output_type": "display_data",
          "data": {
            "text/plain": [
              "<Figure size 432x288 with 1 Axes>"
            ],
            "image/png": "[encoded data removed]"
          },
          "metadata": {
            "needs_background": "light"
          }
        },
        {
          "output_type": "stream",
          "name": "stdout",
          "text": [
            "test accuracy: 97.36842105263158 %\n"
          ]
        }
      ]
    },
    {
      "cell_type": "markdown",
      "source": [
        "Sklearn de verilen hazır kütüphane ve methodlar kullanılarak yapılan logisticregression analiz sonucları"
      ],
      "metadata": {
        "id": "RDl4Ylhf1iBM"
      }
    },
    {
      "cell_type": "code",
      "source": [
        "from sklearn.linear_model import LogisticRegression\n",
        "lr = LogisticRegression()\n",
        "lr.fit(x_train.T,y_train.T)\n",
        "print(\"test accuracy {}\".format(lr.score(x_test.T,y_test.T)))\n",
        "\n",
        "# Accuracy degeri %98 seviyelerine ulastı."
      ],
      "metadata": {
        "colab": {
          "base_uri": "https://localhost:8080/"
        },
        "id": "6fsUgRJU0tcY",
        "outputId": "af208ef9-a37a-4b74-bc34-8c8dafc5100c"
      },
      "execution_count": 12,
      "outputs": [
        {
          "output_type": "stream",
          "name": "stdout",
          "text": [
            "test accuracy 0.9824561403508771\n"
          ]
        }
      ]
    }
  ]
}